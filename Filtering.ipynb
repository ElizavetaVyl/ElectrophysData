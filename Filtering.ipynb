{
 "cells": [
  {
   "cell_type": "code",
   "execution_count": 1,
   "id": "5ad68042",
   "metadata": {},
   "outputs": [],
   "source": [
    "import pyabf \n",
    "import PySimpleGUI as sg\n",
    "from scipy.ndimage import gaussian_filter1d\n",
    "import pandas as pd"
   ]
  },
  {
   "cell_type": "code",
   "execution_count": 66,
   "id": "4eb98e5f",
   "metadata": {},
   "outputs": [],
   "source": [
    "# GUI to choose file\n",
    "tres = 0\n",
    "my_file_abf = False\n",
    "while True:\n",
    "    event, values = sg.Window('Get filename example', [[sg.Text('Filename')], [sg.Input(), sg.FileBrowse()], [sg.OK(), sg.Cancel()] ]).read(close=True)\n",
    "    if event == 'Cancel':\n",
    "        break\n",
    "    try:\n",
    "        my_file_abf = pyabf.ABF(values[0])\n",
    "        break\n",
    "    except:\n",
    "        print('Incorrect file format')"
   ]
  },
  {
   "cell_type": "code",
   "execution_count": 102,
   "id": "8bb8a539",
   "metadata": {},
   "outputs": [
    {
     "name": "stdout",
     "output_type": "stream",
     "text": [
      "Please enter your #ch (0 or 2) 3\n",
      "Please enter your #sw 2\n"
     ]
    }
   ],
   "source": [
    "my_search_ch = int(input(\"Please enter your #ch (0 or 2) \"))\n",
    "my_search_sw = int(input(\"Please enter your #sw \"))"
   ]
  },
  {
   "cell_type": "code",
   "execution_count": 104,
   "id": "62650cde",
   "metadata": {},
   "outputs": [],
   "source": [
    "def channel (file, search_ch):\n",
    "    if search_ch == 0 or search_ch == 1:\n",
    "        start = int(0.05*file.dataRate)\n",
    "        stop = int(0.8*file.dataRate)\n",
    "    if search_ch == 2 or search_ch == 3:\n",
    "        start = int(1.45*file.dataRate)\n",
    "        stop = int(2.2*file.dataRate)\n",
    "    return start, stop\n",
    "\n",
    "start = int(0.04*my_file_abf.dataRate)\n",
    "stop = int(1.4*my_file_abf.dataRate)\n",
    "\n",
    "num_pts = 10\n",
    "my_file_abf.setSweep(my_search_sw, channel = my_search_ch)\n",
    "#my_start, my_stop = channel(my_file_abf, my_search_ch)\n",
    "my_start, my_stop = start, stop\n",
    "smooth = gaussian_filter1d(my_file_abf.sweepY[my_start:my_stop], num_pts) # smooth\n",
    "#print(len(smooth))\n",
    "#print(len(my_file_abf.sweepX[my_start:my_stop]))\n",
    "col1 = 'X response'\n",
    "col2 = 'Y response'\n",
    "\n",
    "my_data = pd.DataFrame({col1:my_file_abf.sweepX[my_start:my_stop], \n",
    "                        col2:smooth})\n",
    "\n",
    "my_data.to_excel(r'C:\\Users\\user\\Documents\\IMBIT\\Master\\Plotting data.xlsx', sheet_name='All data', index=False)"
   ]
  },
  {
   "cell_type": "code",
   "execution_count": null,
   "id": "ee91c089",
   "metadata": {},
   "outputs": [],
   "source": []
  },
  {
   "cell_type": "code",
   "execution_count": null,
   "id": "3510218c",
   "metadata": {},
   "outputs": [],
   "source": []
  }
 ],
 "metadata": {
  "kernelspec": {
   "display_name": "Python 3",
   "language": "python",
   "name": "python3"
  },
  "language_info": {
   "codemirror_mode": {
    "name": "ipython",
    "version": 3
   },
   "file_extension": ".py",
   "mimetype": "text/x-python",
   "name": "python",
   "nbconvert_exporter": "python",
   "pygments_lexer": "ipython3",
   "version": "3.8.8"
  }
 },
 "nbformat": 4,
 "nbformat_minor": 5
}
